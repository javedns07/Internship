{
 "cells": [
  {
   "cell_type": "markdown",
   "id": "3127f6be",
   "metadata": {},
   "source": [
    "# Regular Expressions"
   ]
  },
  {
   "cell_type": "code",
   "execution_count": 1,
   "id": "5af65c24",
   "metadata": {},
   "outputs": [],
   "source": [
    "import pandas as pd \n",
    "import regex as re"
   ]
  },
  {
   "cell_type": "code",
   "execution_count": 2,
   "id": "3c1961b1",
   "metadata": {},
   "outputs": [
    {
     "name": "stdout",
     "output_type": "stream",
     "text": [
      "Python:Exercises::PHP:exercises:\n"
     ]
    }
   ],
   "source": [
    "# Question 1- Write a Python program to replace all occurrences of a space, comma, or dot with a colon.\n",
    "# Sample Text- 'Python Exercises, PHP exercises.'\n",
    "\n",
    "repl=\":\"\n",
    "\n",
    "Sample_Text='Python Exercises, PHP exercises.'\n",
    "\n",
    "x= re.sub(\"\\s|\\,|\\.\",repl, Sample_Text)\n",
    "\n",
    "print(x)\n",
    "\n",
    "# Expected Output: Python:Exercises::PHP:exercises:"
   ]
  },
  {
   "cell_type": "code",
   "execution_count": 3,
   "id": "64740824",
   "metadata": {},
   "outputs": [
    {
     "data": {
      "text/plain": [
       "0             hello  world \n",
       "1                      test\n",
       "2       four  five   six   \n",
       "Name: SUMMARY, dtype: object"
      ]
     },
     "execution_count": 3,
     "metadata": {},
     "output_type": "execute_result"
    }
   ],
   "source": [
    "# Question 2-  Create a dataframe using the dictionary below and remove everything (commas (,), !, XXXX, ;, etc.) from the columns except words.\n",
    "# Dictionary- {'SUMMARY' : ['hello, world!', 'XXXXX test', '123four, five:; six...']}\n",
    "\n",
    "data = {'SUMMARY': ['hello, world!', 'XXXXX test', '123four, five:; six...']}\n",
    "\n",
    "df = pd.DataFrame(data)\n",
    "\n",
    "df['SUMMARY'].str.replace('[A-Z0-9\\W]',r' ', regex=True)\n",
    "\n",
    "# Expected output-\n",
    "# 0      hello world\n",
    "# 1             test\n",
    "# 2    four five six\n"
   ]
  },
  {
   "cell_type": "code",
   "execution_count": 14,
   "id": "c56c2936",
   "metadata": {},
   "outputs": [
    {
     "name": "stdout",
     "output_type": "stream",
     "text": [
      "['January', '15th', '2023', 'celebrated', 'milestone', 'with', 'record', 'breaking', 'achievement', 'team', 'achieved', 'success', 'rate', 'surpassing', 'target', 'This', 'accomplishment', 'positive', 'tone', 'upcoming', 'year', 'Looking', 'forward', 'more', 'achievements', 'months', 'ahead']\n"
     ]
    }
   ],
   "source": [
    "# Question 3- Create a function in python to find all words that are at least 4 characters long in a string.\n",
    "# The use of the re.compile() method is mandatory.\n",
    "\n",
    "sample_text = \"On January 15th, 2023, we celebrated a milestone with a record-breaking achievement. The team achieved a success rate of 95%, surpassing our target of 90%. This accomplishment has set a positive tone for the upcoming year. Looking forward to more achievements in the months ahead!\"\n",
    "\n",
    "def at_least_4_characters(string):\n",
    "    \n",
    "    pattern=r\"\\b\\w{4,}\\b\" #at least 4\n",
    "\n",
    "    rec_pattern=re.compile(pattern)\n",
    "\n",
    "    match=rec_pattern.findall(sample_text)\n",
    "   \n",
    "    return match\n",
    "\n",
    "matches_=at_least_4_characters(sample_text)\n",
    "\n",
    "print(matches_)"
   ]
  },
  {
   "cell_type": "code",
   "execution_count": 19,
   "id": "a9268137",
   "metadata": {},
   "outputs": [
    {
     "name": "stdout",
     "output_type": "stream",
     "text": [
      "['January', '15th', '2023', 'celebrated', 'milestone', 'with', 'record', 'breaking', 'achievement', 'team', 'achieved', 'success', 'rate', 'surpassing', 'target', 'This', 'accomplishment', 'positive', 'tone', 'upcoming', 'year', 'Looking', 'forward', 'more', 'achievements', 'months', 'ahead']\n"
     ]
    }
   ],
   "source": [
    "# Question 3-\n",
    "Sample_text =  \"On January 15th, 2023, we celebrated a milestone with a record-breaking achievement. The team achieved a success rate of 95%, surpassing our target of 90%. This accomplishment has set a positive tone for the upcoming year. Looking forward to more achievements in the months ahead!\"\n",
    "\n",
    "def words(string):\n",
    "    \n",
    "    pattern = re.compile(r'\\b\\w{4,}\\b')\n",
    "\n",
    "    \n",
    "    matches = pattern.findall(string)\n",
    "\n",
    "    return matches\n",
    "\n",
    "\n",
    "\n",
    "result = words(Sample_text)\n",
    "\n",
    "print(result)"
   ]
  },
  {
   "cell_type": "code",
   "execution_count": 29,
   "id": "e1420280",
   "metadata": {},
   "outputs": [
    {
     "name": "stdout",
     "output_type": "stream",
     "text": [
      "['15th', '2023', 'with', 'The', 'team', 'rate', 'our', 'This', 'has', 'set', 'tone', 'for', 'the', 'year', 'more', 'the', 'ahead'] \n",
      "\n",
      "['15ths', '2023', 'with', 'The', 'teams', 'rate', 'our', 'This', 'has', 'set', 'tone', 'for', 'the', 'year', 'more', 'the', 'ahead']\n"
     ]
    }
   ],
   "source": [
    "# Question 4- Create a function in python to find all three, four, and five character words in a string. \n",
    "# The use of the re.compile() method is mandatory.\n",
    "\n",
    "str1=\"On January 15th, 2023, we celebrated a milestone with a record-breaking achievement. The team achieved a success rate of 95%, surpassing our target of 90%. This accomplishment has set a positive tone for the upcoming year. Looking forward to more achievements in the months ahead!\"\n",
    "\n",
    "string_pattern = r\"\\b\\w{3,5}\\b\"\n",
    "\n",
    "regex_pattern=re.compile(string_pattern)\n",
    "\n",
    "result_1=regex_pattern.findall(str1) \n",
    "\n",
    "print(result_1,\"\\n\")\n",
    "\n",
    "# or\n",
    "\n",
    "\n",
    "Sample_text =  \"On January 15ths, 2023, we celebrated a milestone with a record-breaking achievement. The teams achieved a success rate of 95%, surpassing our target of 90%. This accomplishment has set a positive tone for the upcoming year. Looking forward to more achievements in the months ahead!\"\n",
    "\n",
    "def words(string):\n",
    "    \n",
    "    pattern = re.compile(r'\\b\\w{3,5}\\b')\n",
    "\n",
    "    \n",
    "    matches = pattern.findall(string)\n",
    "\n",
    "    return matches\n",
    "\n",
    "result_2= words(Sample_text)\n",
    "\n",
    "print(result_2)"
   ]
  },
  {
   "cell_type": "code",
   "execution_count": 523,
   "id": "318e0ea7",
   "metadata": {},
   "outputs": [
    {
     "name": "stdout",
     "output_type": "stream",
     "text": [
      "example.com\n",
      "hr@fliprobo.com\n",
      "github.com\n",
      "Hello Data Science World\n",
      "Data Scientist\n"
     ]
    }
   ],
   "source": [
    "# Question 5- Create a function in Python to remove the parenthesis in a list of strings. The use of the re.compile() method is mandatory.\n",
    "# Sample Text: [\"example(.com)\", \"hr@fliprobo(.com)\", \"github(.com)\", \"Hello(Data Science World)\", \"Data(Scientist)\"]\n",
    "\n",
    "\n",
    "\n",
    "Sample_Text=[\"example(.com)\", \"hr@fliprobo(.com)\", \"github(.com)\", \"Hello( Data Science World)\", \"Data (Scientist)\"]\n",
    "\n",
    "for i in Sample_Text:\n",
    "    pattern= re.sub(r\"\\(|\\)\",'',i)\n",
    "    print(pattern)\n",
    "\n",
    "\n",
    "# Expected Output:\n",
    "# example.com\n",
    "# hr@fliprobo.com\n",
    "# github.com\n",
    "# Hello Data Science World\n",
    "# Data Scientist\n"
   ]
  },
  {
   "cell_type": "code",
   "execution_count": 518,
   "id": "9a70a891",
   "metadata": {},
   "outputs": [
    {
     "name": "stdout",
     "output_type": "stream",
     "text": [
      "[\"example \", \"hr@fliprobo \", \"github \", \"Hello \", \"Data \"]\n"
     ]
    }
   ],
   "source": [
    "# Question 6- Write a python program to remove the parenthesis area from the text stored in the text file using Regular Expression.\n",
    "\n",
    "Sample_Text: [\"example (.com)\", \"hr@fliprobo (.com)\", \"github (.com)\", \"Hello (Data Science World)\", \"Data (Scientist)\"]\n",
    "\n",
    "with open(\"sample_text.txt\", \"w\") as file:\n",
    "    file.write(\"[\\\"example (.com)\\\", \\\"hr@fliprobo (.com)\\\", \\\"github (.com)\\\", \\\"Hello (Data Science World)\\\", \\\"Data (Scientist)\\\"]\")\n",
    "\n",
    "with open(\"sample_text.txt\", \"r\") as file:\n",
    "    file_text = file.read()\n",
    "\n",
    "pattern=r'\\([^()]*\\)'\n",
    "\n",
    "match = re.sub(pattern,'', file_text)\n",
    "\n",
    "print(match)\n",
    "\n",
    "# Expected Output: [\"example\", \"hr@fliprobo\", \"github\", \"Hello\", \"Data\"]\n",
    "# Note- Store given sample text in the text file and then to remove the parenthesis area from the text.\n"
   ]
  },
  {
   "cell_type": "code",
   "execution_count": 34,
   "id": "0526847c",
   "metadata": {},
   "outputs": [
    {
     "name": "stdout",
     "output_type": "stream",
     "text": [
      "['Importance', 'Of', 'Regular', 'Expressions', 'In', 'Python']\n"
     ]
    }
   ],
   "source": [
    "# Question 7- Write a regular expression in Python to split a string into uppercase letters.\n",
    "\n",
    "\n",
    "sample_text = \"ImportanceOfRegularExpressionsInPython\"\n",
    "\n",
    "x= re.findall(r'[A-Z][a-z]+', sample_text)\n",
    "\n",
    "# or\n",
    "# x= re.split(r\"(?=[A-Z])\",sample_text)\n",
    "\n",
    "print(x)\n",
    "\n",
    "\n",
    "\n",
    "# Expected Output: [‘Importance’, ‘Of’, ‘Regular’, ‘Expression’, ‘In’, ‘Python’]\n"
   ]
  },
  {
   "cell_type": "code",
   "execution_count": 49,
   "id": "3882bc9c",
   "metadata": {},
   "outputs": [
    {
     "name": "stdout",
     "output_type": "stream",
     "text": [
      "RegularExpression 1IsAn 2ImportantTopic 3InPython\n"
     ]
    }
   ],
   "source": [
    "# Question 8- Create a function in python to insert spaces between words starting with numbers.\n",
    "\n",
    "Sample_Text=\"RegularExpression1IsAn2ImportantTopic3InPython\"\n",
    "\n",
    "z=re.sub(r'([A-Z\\d])([A-Z])', r' \\1\\2', Sample_Text)\n",
    "\n",
    "# OR\n",
    "\n",
    "# z=re.sub(r'(\\d)([A-Za-z])', r' \\1\\2', Sample_Text)\n",
    "\n",
    "# OR\n",
    "\n",
    "# z=re.sub(r'(?<=\\D)(\\d)', r' \\1', Sample_Text)\n",
    "\n",
    "\n",
    "print(z)\n",
    "\n",
    "# Expected Output: RegularExpression 1IsAn 2ImportantTopic 3InPython\n"
   ]
  },
  {
   "cell_type": "code",
   "execution_count": 51,
   "id": "ffe0dbbe",
   "metadata": {},
   "outputs": [
    {
     "name": "stdout",
     "output_type": "stream",
     "text": [
      " Regular Expression 1 Is An 2 Important Topic 3 In Python\n"
     ]
    }
   ],
   "source": [
    "# Question 9- Create a function in python to insert spaces between words starting with capital letters or with numbers.\n",
    "\n",
    "Sample_Text=\"RegularExpression1IsAn2ImportantTopic3InPython\"\n",
    "\n",
    "z=re.sub(r'([A-Z0-9])', r' \\1', Sample_Text)\n",
    "\n",
    "# OR\n",
    "\n",
    "# z=re.sub(r'(\\d)([A-Za-z])', r' \\1 \\2', Sample_Text)\n",
    "\n",
    "print(z)\n",
    "\n",
    "# Expected Output: RegularExpression 1 IsAn 2 ImportantTopic 3 InPython\n"
   ]
  },
  {
   "cell_type": "code",
   "execution_count": 52,
   "id": "24e0d6f2",
   "metadata": {},
   "outputs": [
    {
     "data": {
      "text/html": [
       "<div>\n",
       "<style scoped>\n",
       "    .dataframe tbody tr th:only-of-type {\n",
       "        vertical-align: middle;\n",
       "    }\n",
       "\n",
       "    .dataframe tbody tr th {\n",
       "        vertical-align: top;\n",
       "    }\n",
       "\n",
       "    .dataframe thead th {\n",
       "        text-align: right;\n",
       "    }\n",
       "</style>\n",
       "<table border=\"1\" class=\"dataframe\">\n",
       "  <thead>\n",
       "    <tr style=\"text-align: right;\">\n",
       "      <th></th>\n",
       "      <th>first_five_letters</th>\n",
       "    </tr>\n",
       "  </thead>\n",
       "  <tbody>\n",
       "    <tr>\n",
       "      <th>0</th>\n",
       "      <td>Switze</td>\n",
       "    </tr>\n",
       "    <tr>\n",
       "      <th>1</th>\n",
       "      <td>Icelan</td>\n",
       "    </tr>\n",
       "    <tr>\n",
       "      <th>2</th>\n",
       "      <td>Denmar</td>\n",
       "    </tr>\n",
       "    <tr>\n",
       "      <th>3</th>\n",
       "      <td>Norway</td>\n",
       "    </tr>\n",
       "    <tr>\n",
       "      <th>4</th>\n",
       "      <td>Canada</td>\n",
       "    </tr>\n",
       "    <tr>\n",
       "      <th>...</th>\n",
       "      <td>...</td>\n",
       "    </tr>\n",
       "    <tr>\n",
       "      <th>153</th>\n",
       "      <td>Rwanda</td>\n",
       "    </tr>\n",
       "    <tr>\n",
       "      <th>154</th>\n",
       "      <td>NaN</td>\n",
       "    </tr>\n",
       "    <tr>\n",
       "      <th>155</th>\n",
       "      <td>NaN</td>\n",
       "    </tr>\n",
       "    <tr>\n",
       "      <th>156</th>\n",
       "      <td>Burund</td>\n",
       "    </tr>\n",
       "    <tr>\n",
       "      <th>157</th>\n",
       "      <td>NaN</td>\n",
       "    </tr>\n",
       "  </tbody>\n",
       "</table>\n",
       "<p>158 rows × 1 columns</p>\n",
       "</div>"
      ],
      "text/plain": [
       "    first_five_letters\n",
       "0               Switze\n",
       "1               Icelan\n",
       "2               Denmar\n",
       "3               Norway\n",
       "4               Canada\n",
       "..                 ...\n",
       "153             Rwanda\n",
       "154                NaN\n",
       "155                NaN\n",
       "156             Burund\n",
       "157                NaN\n",
       "\n",
       "[158 rows x 1 columns]"
      ]
     },
     "execution_count": 52,
     "metadata": {},
     "output_type": "execute_result"
    }
   ],
   "source": [
    "# Question 10- Use the github link below to read the data and create a dataframe. \n",
    "# After creating the dataframe extract the first 6 letters of each country \n",
    "# and store in the dataframe under a new column called first_five_letters.\n",
    "# Github Link-  https://raw.githubusercontent.com/dsrscientist/DSData/master/happiness_score_dataset.csv\n",
    "\n",
    "df=pd.read_csv(r'https://raw.githubusercontent.com/dsrscientist/DSData/master/happiness_score_dataset.csv')\n",
    "\n",
    "\n",
    "pattern=r'(\\w{6})'\n",
    "\n",
    "\n",
    "mask = df[\"Country\"].str.extract(pattern).rename(columns={0: 'first_five_letters'})\n",
    "\n",
    "mask\n"
   ]
  },
  {
   "cell_type": "code",
   "execution_count": 63,
   "id": "4b7d4d30",
   "metadata": {},
   "outputs": [
    {
     "name": "stdout",
     "output_type": "stream",
     "text": [
      "Match_object: ['Abdul_Kalam123', 'was', 'an', 'Indian', '123', 'aerospace', 'scientist', 'also', 'known', 'as', 'the', 'Missile', 'Manof', 'India', 'Valid_String123']\n"
     ]
    }
   ],
   "source": [
    "# Question 11- Write a Python program to match a string that \n",
    "# contains only upper and lowercase letters, numbers, and underscores.\n",
    "\n",
    "target_string= \"Abdul_Kalam123 was an Indian@123 aerospace scientist also known as the Missile Manof India, Valid_String123\"\n",
    "\n",
    "pattern= r'[a-zA-Z0-9_]+'\n",
    "\n",
    "result = re.findall(pattern,target_string)\n",
    "\n",
    "print (\"Match_object:\",result)"
   ]
  },
  {
   "cell_type": "code",
   "execution_count": 73,
   "id": "08ba912a",
   "metadata": {},
   "outputs": [
    {
     "name": "stdout",
     "output_type": "stream",
     "text": [
      "Match_object: ['123Abdul']\n"
     ]
    }
   ],
   "source": [
    "# Question 12- Write a Python program where a string will start with a specific number. \n",
    "target_string= \"123Abdul Kalam123 was an Indian123 aerospace scientist also known as the Missile Manof India, Valid_String123\"\n",
    "\n",
    "pattern= r'^123[\\w+]+[a-zA-Z0-9]+'\n",
    "\n",
    "result = re.findall(pattern,target_string)\n",
    "\n",
    "print (\"Match_object:\",result)"
   ]
  },
  {
   "cell_type": "code",
   "execution_count": 74,
   "id": "b34ee63d",
   "metadata": {},
   "outputs": [
    {
     "name": "stdout",
     "output_type": "stream",
     "text": [
      "192.12.45.7\n"
     ]
    }
   ],
   "source": [
    "# Question 13- Write a Python program to remove leading zeros from an IP address\n",
    "ip_address = \"0192.012.045.007\"\n",
    "pattern = (r'\\b0+(\\d+)\\b')\n",
    "cleaned_address = re.sub(pattern,r'\\1', ip_address)\n",
    "print(cleaned_address)"
   ]
  },
  {
   "cell_type": "code",
   "execution_count": 75,
   "id": "894bd278",
   "metadata": {},
   "outputs": [
    {
     "name": "stdout",
     "output_type": "stream",
     "text": [
      "['November 5th, 1988']\n"
     ]
    }
   ],
   "source": [
    "# Question 14- Write a regular expression in python to match a date string in the form of Month name followed by day number \n",
    "# and year stored in a text file.\n",
    "string=\"Virat is a cricket player , He was born on November 5th, 1988 , He is the former captain of the Indian national cricket team\"\n",
    "pattern = r'\\b(?:January|February|March|April|May|June|July|August|September|October|November|December)\\s+\\d{1,2}(?:st|nd|rd|th)?,\\s+\\d{4}\\b'\n",
    "# matches = re.findall(pattern,string)\n",
    "\n",
    "\n",
    "import re\n",
    "\n",
    "# text = \"On August 15th 1947 that India was declared independent from British colonialism, and the reins of control were handed over to the leaders of the Country.\"\n",
    "\n",
    "# pattern = r\"\\b([A-Z][a-z]+) \\d{1,2}(?:st|nd|rd|th)? \\d{4}\\b\"\n",
    "\n",
    "matches = re.findall(pattern,string)\n",
    "print(matches)"
   ]
  },
  {
   "cell_type": "markdown",
   "id": "7ed0cc71",
   "metadata": {},
   "source": [
    "<!-- \\b: Denotes a word boundary to ensure that the pattern is not part of a larger word.\n",
    "(?:January|February|March|April|May|June|July|August|September|October|November|December): Non-capturing group for month names.\n",
    "\\s+: Matches one or more whitespace characters (space).\n",
    "\\d{1,2}: Matches one or two digits for the day number.\n",
    ",: Matches the comma between the day number and the year.\n",
    "\\s+: Matches one or more whitespace characters.\n",
    "\\d{4}: Matches exactly four digits for the year. -->"
   ]
  },
  {
   "cell_type": "code",
   "execution_count": null,
   "id": "42ca671a",
   "metadata": {},
   "outputs": [],
   "source": [
    "# \\b: Denotes a word boundary to ensure that the pattern is not part of a larger word.\n",
    "# (?:January|February|March|April|May|June|July|August|September|October|November|December): Non-capturing group for month names.\n",
    "# \\s+: Matches one or more whitespace characters (space).\n",
    "# \\d{1,2}: Matches one or two digits for the day number.\n",
    "# ,: Matches the comma between the day number and the year.\n",
    "# \\s+: Matches one or more whitespace characters.\n",
    "# \\d{4}: Matches exactly four digits for the year."
   ]
  },
  {
   "cell_type": "code",
   "execution_count": 538,
   "id": "2b5cd1ae",
   "metadata": {},
   "outputs": [
    {
     "name": "stdout",
     "output_type": "stream",
     "text": [
      "['August 15th 1947']\n"
     ]
    }
   ],
   "source": [
    "# Question 14- Write a regular expression in python to match a date string in the form of Month name \n",
    "# followed by day number and year stored in a text file.\n",
    "# Sample text :  ' On August 15th 1947 that India was declared independent from British colonialism, and the reins of control were handed over to the leaders of the Country’.\n",
    "\n",
    "import re\n",
    "\n",
    "with open('sample_text.txt', 'w') as file:#\"w\"= write\n",
    "    file.write('On August 15th 1947 that India was, declared independent from British colonialism, and the reins of control were handed over to the leaders of the Country.')\n",
    "\n",
    "with open('sample_text.txt', 'r') as file:#\"r\"=read\n",
    "    text_data = file.read()\n",
    "\n",
    "\n",
    "\n",
    "# pattern = r'\\b([A-Z][a-z]+)\\s+\\d{1,2}(?:st|nd|rd|th)?\\s+\\d{4}\\b'\n",
    "\n",
    "pattern = r'\\b(?:January|February|March|April|May|June|July|August|September|October|November|December)\\s+\\d{1,2}(?:st|nd|rd|th)?\\s+\\d{4}\\b'\n",
    "\n",
    "dates = re.findall(pattern, text_data)\n",
    "\n",
    "\n",
    "print(dates)\n",
    "\n",
    "\n",
    "\n",
    "# Expected Output- August 15th 1947\n",
    "# Note- Store given sample text in the text file and then extract the date string asked format.\n"
   ]
  },
  {
   "cell_type": "code",
   "execution_count": 250,
   "id": "90d5819f",
   "metadata": {},
   "outputs": [
    {
     "name": "stdout",
     "output_type": "stream",
     "text": [
      "['fox', 'dog', 'horse']\n"
     ]
    }
   ],
   "source": [
    "# Question 15- Write a Python program to search some literals strings in a string. \n",
    "\n",
    "pattern= \"fox|dog|horse\"\n",
    "\n",
    "Sample_text='The quick brown fox jumps over the lazy dog and horse.'\n",
    "\n",
    "matches = re.findall(pattern,Sample_text)\n",
    "\n",
    "print(matches)\n",
    "\n",
    "\n",
    "# Searched words : 'fox', 'dog', 'horse'\n"
   ]
  },
  {
   "cell_type": "code",
   "execution_count": 261,
   "id": "7c8e760d",
   "metadata": {},
   "outputs": [
    {
     "name": "stdout",
     "output_type": "stream",
     "text": [
      "<re.Match object; span=(16, 19), match='fox'>\n"
     ]
    }
   ],
   "source": [
    "# Question 16- Write a Python program to search a literals string in a string and also find the location within the original string where the pattern occurs\n",
    "\n",
    "Sample_text='The quick brown fox jumps over the lazy dog.'\n",
    "\n",
    "\n",
    "\n",
    "search= re.search('fox', Sample_text)\n",
    "\n",
    "print(search)\n",
    "\n",
    "# Searched words : 'fox'(16th) place\n"
   ]
  },
  {
   "cell_type": "code",
   "execution_count": 277,
   "id": "bf13df11",
   "metadata": {},
   "outputs": [
    {
     "name": "stdout",
     "output_type": "stream",
     "text": [
      "['exercises']\n",
      "['exercises']\n",
      "['exercises']\n"
     ]
    }
   ],
   "source": [
    "# Question 17- Write a Python program to find the substrings within a string.\n",
    "x='Python exercises', 'PHP exercises', 'C# exercises'\n",
    "pattern = 'exercises'\n",
    "for match in x:\n",
    "    search= re.findall(pattern,match)\n",
    "#     search= re.search(pattern,match) for loctaion\n",
    "    print(search)\n",
    "\n",
    "# Pattern : 'exercises'.\n"
   ]
  },
  {
   "cell_type": "code",
   "execution_count": 302,
   "id": "62c7ed52",
   "metadata": {},
   "outputs": [
    {
     "name": "stdout",
     "output_type": "stream",
     "text": [
      "<re.Match object; span=(7, 16), match='exercises'>\n",
      "<re.Match object; span=(4, 13), match='exercises'>\n",
      "<re.Match object; span=(3, 12), match='exercises'>\n"
     ]
    }
   ],
   "source": [
    "# Question 18- Write a Python program to find the occurrence and position of the substrings within a string.\n",
    "x='Python exercises', 'PHP exercises', 'C# exercises'\n",
    "pattern = 'exercises'\n",
    "for match in x:\n",
    "    search= re.search(pattern,match) \n",
    "    print(search)"
   ]
  },
  {
   "cell_type": "code",
   "execution_count": 293,
   "id": "239dc095",
   "metadata": {},
   "outputs": [
    {
     "name": "stdout",
     "output_type": "stream",
     "text": [
      "2024-01-01\n",
      "01-01-2024\n"
     ]
    }
   ],
   "source": [
    "# Question 19- Write a Python program to convert a date of yyyy-mm-dd format to dd-mm-yyyy format.\n",
    "input_date=\"2024-01-01\"\n",
    "\n",
    "pattern=r'(\\d{4})-(\\d{2})-(\\d{2})'\n",
    "\n",
    "modified_date=re.sub(pattern, r'\\3-\\2-\\1',input_date)\n",
    "\n",
    "print(input_date)\n",
    "\n",
    "print(modified_date)\n"
   ]
  },
  {
   "cell_type": "code",
   "execution_count": 299,
   "id": "36ad2217",
   "metadata": {},
   "outputs": [
    {
     "name": "stdout",
     "output_type": "stream",
     "text": [
      "['01.12', '0132.12', '2.31', '145.8', '3.01', '27.25', '0.25']\n"
     ]
    }
   ],
   "source": [
    "# Question 20- Create a function in python to find all decimal numbers with a precision of 1 or 2 in a string. The use of the re.compile() method is mandatory.\n",
    "\n",
    "Sample_Text=\"01.12 0132.123 2.31875 145.8 3.01 27.25 0.25\"\n",
    "\n",
    "# pattern=r'\\d+\\.\\d{1,2}'\n",
    "\n",
    "pattern= r'\\b\\d+\\.\\d{1,2}\\b'\n",
    "\n",
    "rec_pattern=re.compile(pattern)\n",
    "\n",
    "dec_no_pre=rec_pattern.findall(Sample_Text)\n",
    "\n",
    "print(dec_no_pre)\n",
    "\n",
    "\n",
    "# Expected Output: ['01.12', '145.8', '3.01', '27.25', '0.25']\n"
   ]
  },
  {
   "cell_type": "code",
   "execution_count": 323,
   "id": "9784bcc9",
   "metadata": {},
   "outputs": [
    {
     "name": "stdout",
     "output_type": "stream",
     "text": [
      "<re.Match object; span=(10, 13), match='455'> \n",
      "\n",
      "<re.Match object; span=(6, 8), match='45'>\n",
      "<re.Match object; span=(12, 14), match='65'>\n",
      "<re.Match object; span=(7, 9), match='34'>\n"
     ]
    }
   ],
   "source": [
    "# Question 21- Write a Python program to separate and print the numbers and their position of a given string.\n",
    "x=\"The quick 455 brown fox jumps over the lazy dog.\"\n",
    "\n",
    "pattern = r'\\d+'\n",
    "\n",
    "search= re.search(pattern,x) \n",
    "\n",
    "print(search,\"\\n\")\n",
    "\n",
    "# or\n",
    "\n",
    "x='i ate 45 banans','I have done 65 pushups ', 'It has 34inbuilt camera'\n",
    "pattern = r'\\d+'\n",
    "for match in x:\n",
    "    search= re.search(pattern,match) \n",
    "    print(search)"
   ]
  },
  {
   "cell_type": "code",
   "execution_count": 338,
   "id": "6a280452",
   "metadata": {},
   "outputs": [
    {
     "name": "stdout",
     "output_type": "stream",
     "text": [
      "950\n"
     ]
    }
   ],
   "source": [
    "# Question 22- Write a regular expression in python program to extract maximum/largest numeric value from a string.\n",
    "\n",
    "\n",
    "Sample_Text='My marks in each semester are: 947, 896, 926, 524, 734, 950, 642'\n",
    "\n",
    "pattern= r'\\d+'\n",
    "\n",
    "match=re.findall(pattern,Sample_Text)\n",
    "\n",
    "print(max(match))\n",
    "\n",
    "# Expected Output: 950"
   ]
  },
  {
   "cell_type": "code",
   "execution_count": 373,
   "id": "0ddb330f",
   "metadata": {},
   "outputs": [
    {
     "name": "stdout",
     "output_type": "stream",
     "text": [
      "Regular Expression Is An Important Topic In Python\n"
     ]
    }
   ],
   "source": [
    "# Question 23- Create a function in python to insert spaces between words starting with capital letters.\n",
    "\n",
    "Sample_Text=\"RegularExpressionIsAnImportantTopicInPython\"\n",
    "\n",
    "pattern=r'([a-z])([A-Z])'\n",
    "\n",
    "match=re.sub(pattern, r'\\1 \\2', Sample_Text)\n",
    "\n",
    "print(match)\n",
    "\n",
    "\n",
    "# Expected Output: Regular Expression Is An Important Topic In Python\n"
   ]
  },
  {
   "cell_type": "code",
   "execution_count": 383,
   "id": "460d54a6",
   "metadata": {},
   "outputs": [
    {
     "name": "stdout",
     "output_type": "stream",
     "text": [
      "['Create', 'Python', 'Between', 'With']\n"
     ]
    }
   ],
   "source": [
    "# Question 24- Python regex to find sequences of one upper case letter followed by lower case letters\n",
    "\n",
    "Sample_Text='Create a function in Python to insert spaces Between words starting With capital letters.'\n",
    "\n",
    "pattern=r'([A-Z][a-z]+)'\n",
    "\n",
    "match=re.findall(pattern,Sample_Text)\n",
    "\n",
    "print(match)"
   ]
  },
  {
   "cell_type": "code",
   "execution_count": 385,
   "id": "1a6de0df",
   "metadata": {},
   "outputs": [
    {
     "name": "stdout",
     "output_type": "stream",
     "text": [
      "Hello hello world\n"
     ]
    }
   ],
   "source": [
    "# Question 25- Write a Python program to remove continuous duplicate words from Sentence using Regular Expression.\n",
    "\n",
    "Sample_Text=\"Hello hello world world\"\n",
    " \n",
    "pattern = r'\\b(\\w+)(?:\\W+\\1\\b)+'\n",
    "\n",
    "x=re.sub(pattern, r'\\1', Sample_Text) \n",
    "\n",
    "print(x)\n",
    "\n",
    "# Expected Output: Hello hello world\n"
   ]
  },
  {
   "cell_type": "code",
   "execution_count": 91,
   "id": "81d083cd",
   "metadata": {},
   "outputs": [
    {
     "name": "stdout",
     "output_type": "stream",
     "text": [
      "['python326', 'python738', 'javed9876', '123javed']\n"
     ]
    }
   ],
   "source": [
    "# Question 26-  Write a python python using RegEx to accept string ending with alphanumeric character.\n",
    "sample_text1= \" python326,python738,javed9876, 123javed\"\n",
    "\n",
    "pattern= r'[\\w$]+'\n",
    "\n",
    "# or\n",
    "\n",
    "# pattern=r'[a-zA-z0-9]+'\n",
    "\n",
    "match=re.findall(pattern,sample_text1)\n",
    "\n",
    "print(match)\n",
    "\n"
   ]
  },
  {
   "cell_type": "code",
   "execution_count": 417,
   "id": "8ca9de16",
   "metadata": {},
   "outputs": [
    {
     "name": "stdout",
     "output_type": "stream",
     "text": [
      "['#Doltiwal', '#xyzabc', '#Demonetization']\n"
     ]
    }
   ],
   "source": [
    "# Question 27-Write a python program using RegEx to extract the hashtags.\n",
    "\n",
    "Sample_Text=\"\"\"RT @kapil_kausik: #Doltiwal I mean #xyzabc is \"hurt\" by #Demonetization as the same has rendered USELESS <ed><U+00A0><U+00BD><ed><U+00B1><U+0089> \"acquired funds\" No wo\"\"\"\n",
    "\n",
    "pattern=r\"#\\w+\"\n",
    "\n",
    "match=re.findall(pattern,Sample_Text)\n",
    "\n",
    "print(match)\n",
    "\n",
    "# Expected Output: ['#Doltiwal', '#xyzabc', '#Demonetization']\n"
   ]
  },
  {
   "cell_type": "code",
   "execution_count": 433,
   "id": "7fbbc82f",
   "metadata": {},
   "outputs": [
    {
     "name": "stdout",
     "output_type": "stream",
     "text": [
      "@Jags123456 Bharat band on 28??<ed>  <ed>  Those who  are protesting #demonetization  are all different party leaders.\n"
     ]
    }
   ],
   "source": [
    "# Question 28- Write a python program using RegEx to remove <U+..> like symbols\n",
    "# Check the below sample text, there are strange symbols something of the sort <U+..> all over the place. You need to come up with a general Regex expression that will cover all such symbols.\n",
    "\n",
    "Sample_Text=\"@Jags123456 Bharat band on 28??<ed><U+00A0><U+00BD><ed><U+00B8><U+0082>Those who  are protesting #demonetization  are all different party leaders.\"\n",
    "\n",
    "# pattern=r'<[a-zA-Z0-9-\\+]+>'\n",
    "\n",
    "# or\n",
    "\n",
    "# pattern=r'<U\\+\\w+>'\n",
    "\n",
    "# or\n",
    "\n",
    "pattern = r\"<U\\+\\w{4}>\"\n",
    "\n",
    "match=re.sub(pattern,r' ',Sample_Text)\n",
    "\n",
    "print(match)\n",
    "\n",
    "# Expected Output: @Jags123456 Bharat band on 28??<ed><ed>Those who  are protesting #demonetization  are all different party leaders\n"
   ]
  },
  {
   "cell_type": "code",
   "execution_count": 439,
   "id": "eb25709f",
   "metadata": {},
   "outputs": [
    {
     "name": "stdout",
     "output_type": "stream",
     "text": [
      "['12-09-1992', '15-12-1999']\n"
     ]
    }
   ],
   "source": [
    "# Question 29- Write a python program to extract dates from the text stored in the text file.\n",
    "\n",
    "Sample_Text='Ron was born on 12-09-1992 and he was admitted to school 15-12-1999.'\n",
    "\n",
    "import re\n",
    "\n",
    "with open('Sample_Text.txt', 'w') as file:#\"w\"= write\n",
    "    file.write('Ron was born on 12-09-1992 and he was admitted to school 15-12-1999.')\n",
    "\n",
    "with open('Sample_Text.txt', 'r') as file:#\"r\"=read\n",
    "    text_data = file.read()\n",
    "\n",
    "# print(text_data)\n",
    "\n",
    "pattern=r'\\b\\d{2}-\\d{2}-\\d{4}\\b'\n",
    "\n",
    "\n",
    "match=re.findall(pattern,text_data)\n",
    "\n",
    "print(match)\n",
    "\n",
    "# Note- Store this sample text in the file and then extract dates.\n"
   ]
  },
  {
   "cell_type": "code",
   "execution_count": 449,
   "id": "4bc36e2e",
   "metadata": {},
   "outputs": [
    {
     "name": "stdout",
     "output_type": "stream",
     "text": [
      " following example creates  ArrayList  a capacity   elements. 4 elements   added   ArrayList   ArrayList  trimmed accordingly.\n"
     ]
    }
   ],
   "source": [
    "# Question 30- Create a function in python to remove all words from a string of length between 2 and 4.\n",
    "# The use of the re.compile() method is mandatory.\n",
    "\n",
    "Sample_Text=\"The following example creates an ArrayList with a capacity of 50 elements. 4 elements are then added to the ArrayList and the ArrayList is trimmed accordingly.\"\n",
    "pattern=r'\\b\\w{2,4}\\b'\n",
    "\n",
    "rec_pattern=re.compile(pattern)\n",
    "\n",
    "match=rec_pattern.sub('',Sample_Text)\n",
    "\n",
    "print(match)\n",
    "\n",
    "# Expected Output:  following example creates ArrayList a capacity elements. 4 elements added ArrayList ArrayList trimmed accordingly.\n"
   ]
  },
  {
   "cell_type": "code",
   "execution_count": null,
   "id": "871fee65",
   "metadata": {},
   "outputs": [],
   "source": []
  },
  {
   "cell_type": "code",
   "execution_count": null,
   "id": "88d3c7d3",
   "metadata": {},
   "outputs": [],
   "source": []
  }
 ],
 "metadata": {
  "kernelspec": {
   "display_name": "Python 3 (ipykernel)",
   "language": "python",
   "name": "python3"
  },
  "language_info": {
   "codemirror_mode": {
    "name": "ipython",
    "version": 3
   },
   "file_extension": ".py",
   "mimetype": "text/x-python",
   "name": "python",
   "nbconvert_exporter": "python",
   "pygments_lexer": "ipython3",
   "version": "3.11.3"
  }
 },
 "nbformat": 4,
 "nbformat_minor": 5
}
